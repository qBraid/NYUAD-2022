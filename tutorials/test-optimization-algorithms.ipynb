{
 "cells": [
  {
   "cell_type": "code",
   "execution_count": 27,
   "id": "f3c70eb1",
   "metadata": {},
   "outputs": [],
   "source": [
    "from qiskit_optimization import QuadraticProgram\n",
    "from qiskit_optimization.converters import QuadraticProgramToQubo\n",
    "\n",
    "from qiskit import IBMQ, Aer\n",
    "from qiskit.algorithms import QAOA, VQE, NumPyMinimumEigensolver\n",
    "from qiskit.utils import QuantumInstance, algorithm_globals\n",
    "from qiskit.providers.aer.noise.noise_model import NoiseModel\n",
    "\n",
    "from qiskit_optimization.algorithms import MinimumEigenOptimizer"
   ]
  },
  {
   "cell_type": "code",
   "execution_count": 28,
   "id": "e1dc4f79",
   "metadata": {},
   "outputs": [],
   "source": [
    "def energy_cost_quadratic_program():\n",
    "    ### Define crop-yield quadratic coefficients\n",
    "\n",
    "    max_source_cost = 5 #Pmax\n",
    "    max_state = 1\n",
    "    energy_cost_estimation = 10\n",
    "\n",
    "    # parameters\n",
    "    cost = [\"source\", \"state\"]\n",
    "\n",
    "    # Coefficients: Ai = 2000, Bi=5, Ci=10\n",
    "    # linear dependencies\n",
    "    linear_cost = {\n",
    "        \"source\": 5,\n",
    "        \"state\": 2,\n",
    "    }\n",
    "\n",
    "    # quadratic dependencies\n",
    "    quadratic_cost = {(\"source\", \"source\"): 1}\n",
    "    \n",
    "    # Create a QuadraticProgram\n",
    "    energy_cost = QuadraticProgram(\n",
    "        name=\"Energy Cost\",\n",
    "    )\n",
    "\n",
    "    # Add crop-yield variables\n",
    "    energy_cost.integer_var(name=\"source\", lowerbound=1, upperbound=max_source_cost)\n",
    "    energy_cost.integer_var(name=\"state\", lowerbound=1, upperbound=max_state)\n",
    "    \n",
    "    # Add crop-yield quadratic using monoculture and intercrop yield variables\n",
    "    energy_cost.minimize(\n",
    "        linear=linear_cost,\n",
    "        quadratic=quadratic_cost\n",
    "    )\n",
    "\n",
    "    # Add constraint for the total farm area\n",
    "    energy_cost.linear_constraint(\n",
    "        sense=\"<=\",\n",
    "        rhs=energy_cost_estimation,\n",
    "        name=\"Energy cost\",\n",
    "    )\n",
    "    return energy_cost"
   ]
  },
  {
   "cell_type": "code",
   "execution_count": 29,
   "id": "2efe8533",
   "metadata": {},
   "outputs": [],
   "source": [
    "energy_cost = energy_cost_quadratic_program()"
   ]
  },
  {
   "cell_type": "code",
   "execution_count": 30,
   "id": "bf92010f",
   "metadata": {},
   "outputs": [],
   "source": [
    "convert_to_qubo = QuadraticProgramToQubo()\n",
    "qubo_energy_cost = convert_to_qubo.convert(energy_cost)"
   ]
  },
  {
   "cell_type": "code",
   "execution_count": 31,
   "id": "ac7c82e2",
   "metadata": {},
   "outputs": [
    {
     "name": "stdout",
     "output_type": "stream",
     "text": [
      "offset: 1490.0\n",
      "operator:\n",
      "675.0 * ZIIIIIII\n",
      "+ 900.0 * IZIIIIII\n",
      "+ 270.0 * ZZIIIIII\n",
      "+ 450.0 * IIZIIIII\n",
      "+ 135.0 * ZIZIIIII\n",
      "+ 180.0 * IZZIIIII\n",
      "+ 225.0 * IIIZIIII\n",
      "+ 67.5 * ZIIZIIII\n",
      "+ 90.0 * IZIZIIII\n",
      "+ 45.0 * IIZZIIII\n",
      "- 5.5 * IIIIIZII\n",
      "- 11.0 * IIIIIIZI\n",
      "+ 1.0 * IIIIIZZI\n",
      "- 5.5 * IIIIIIIZ\n",
      "+ 0.5 * IIIIIZIZ\n",
      "+ 1.0 * IIIIIIZZ\n"
     ]
    }
   ],
   "source": [
    "op, offset = qubo_energy_cost.to_ising()\n",
    "print('offset: {}'.format(offset))\n",
    "print('operator:')\n",
    "print(op)"
   ]
  },
  {
   "cell_type": "code",
   "execution_count": 32,
   "id": "59458e94",
   "metadata": {},
   "outputs": [
    {
     "name": "stdout",
     "output_type": "stream",
     "text": [
      "Number of qubits required is 8\n"
     ]
    }
   ],
   "source": [
    "# Estimate the number of qubits required\n",
    "print(f\"Number of qubits required is {op.num_qubits}\")"
   ]
  },
  {
   "cell_type": "markdown",
   "id": "dfbd49c2",
   "metadata": {},
   "source": [
    "<h1> QAOA solution </h1>"
   ]
  },
  {
   "cell_type": "code",
   "execution_count": 16,
   "id": "6a9f5e81",
   "metadata": {},
   "outputs": [],
   "source": [
    "backend = Aer.get_backend(\"qasm_simulator\")\n",
    "algorithm_globals.random_seed = 271828"
   ]
  },
  {
   "cell_type": "code",
   "execution_count": 17,
   "id": "7fa896bc",
   "metadata": {},
   "outputs": [],
   "source": [
    "def get_QAOA_solution_for(\n",
    "    quadprog: QuadraticProgram,\n",
    "    quantumInstance: QuantumInstance,\n",
    "):\n",
    "    _eval_count = 0\n",
    "\n",
    "    def callback(eval_count, parameters, mean, std):\n",
    "        nonlocal _eval_count\n",
    "        _eval_count = eval_count\n",
    "\n",
    "    # Create solver\n",
    "    solver = QAOA(\n",
    "        quantum_instance=quantumInstance,\n",
    "        callback=callback,\n",
    "    )\n",
    " \n",
    "    # Create optimizer for solver\n",
    "    optimizer = MinimumEigenOptimizer(solver)\n",
    "\n",
    "    # Get result from optimizer\n",
    "    result = optimizer.solve(quadprog)\n",
    "    return result, _eval_count"
   ]
  },
  {
   "cell_type": "code",
   "execution_count": 33,
   "id": "3d62dde2",
   "metadata": {},
   "outputs": [
    {
     "name": "stdout",
     "output_type": "stream",
     "text": [
      "Solution found using the QAOA method:\n",
      "\n",
      "Maximum energy generated is 8.0 Xhour\n",
      "Sources used are: \n",
      "\t1.0 (coeff) of source\n",
      "\t1.0 (coeff) of state\n",
      "\n",
      "The solution was found within 16 evaluations of QAOA.\n"
     ]
    }
   ],
   "source": [
    "# Create a QuantumInstance\n",
    "simulator_instance = QuantumInstance(\n",
    "    backend=backend,\n",
    "    seed_simulator=algorithm_globals.random_seed,\n",
    "    seed_transpiler=algorithm_globals.random_seed,\n",
    ")\n",
    "\n",
    "# Get QAOA result\n",
    "qaoa_result, qaoa_eval_count = get_QAOA_solution_for(energy_cost, simulator_instance)\n",
    "\n",
    "# Format and print result\n",
    "print(\"Solution found using the QAOA method:\\n\")\n",
    "print(f\"Maximum energy generated is {qaoa_result.fval} Xhour\")\n",
    "print(f\"Sources used are: \")\n",
    "for source_contribution, name_contribution in zip(qaoa_result.x, qaoa_result.variable_names):\n",
    "    print(f\"\\t{source_contribution} (coeff) of {name_contribution}\")\n",
    "\n",
    "print(f\"\\nThe solution was found within {qaoa_eval_count} evaluations of QAOA.\")"
   ]
  },
  {
   "cell_type": "markdown",
   "id": "0dc3f7f8",
   "metadata": {},
   "source": [
    "<h1> Classical solution </h1>"
   ]
  },
  {
   "cell_type": "code",
   "execution_count": 19,
   "id": "d7c37405",
   "metadata": {},
   "outputs": [],
   "source": [
    "def get_classical_solution_for(quadprog: QuadraticProgram):\n",
    "    # Create solver\n",
    "    solver = NumPyMinimumEigensolver()\n",
    "\n",
    "    # Create optimizer for solver\n",
    "    optimizer = MinimumEigenOptimizer(solver)\n",
    "\n",
    "    # Return result from optimizer\n",
    "    return optimizer.solve(quadprog)"
   ]
  },
  {
   "cell_type": "code",
   "execution_count": 34,
   "id": "38ebc984",
   "metadata": {},
   "outputs": [
    {
     "name": "stdout",
     "output_type": "stream",
     "text": [
      "Solution found using the classical method:\n",
      "\n",
      "Maximum energy generated is 8.0 Xhour\n",
      "Sources used are: \n",
      "\t1.0 (coeff) of source\n",
      "\t1.0 (coeff) of state\n"
     ]
    }
   ],
   "source": [
    "# Get classical result\n",
    "classical_result = get_classical_solution_for(energy_cost)\n",
    "\n",
    "# Format and print result\n",
    "print(\"Solution found using the classical method:\\n\")\n",
    "print(f\"Maximum energy generated is {classical_result.fval} Xhour\")\n",
    "print(f\"Sources used are: \")\n",
    "\n",
    "_sources = [v.name for v in energy_cost.variables]\n",
    "for source_index, source_contribution in enumerate(classical_result.x):\n",
    "    print(f\"\\t{source_contribution} (coeff) of {_sources[source_index]}\")"
   ]
  },
  {
   "cell_type": "markdown",
   "id": "27f3f572",
   "metadata": {},
   "source": [
    "<h1> VQE solution </h1>"
   ]
  },
  {
   "cell_type": "code",
   "execution_count": 35,
   "id": "ae0e833a",
   "metadata": {},
   "outputs": [],
   "source": [
    "def get_VQE_solution_for(\n",
    "    quadprog: QuadraticProgram,\n",
    "    quantumInstance: QuantumInstance,\n",
    "):\n",
    "    _eval_count = 0\n",
    "\n",
    "    def callback(eval_count, parameters, mean, std):\n",
    "        nonlocal _eval_count\n",
    "        _eval_count = eval_count\n",
    "\n",
    "    # Create solver and optimizer\n",
    "    solver = VQE(quantum_instance=quantumInstance, callback=callback)\n",
    "\n",
    "    # Create optimizer for solver\n",
    "    optimizer = MinimumEigenOptimizer(solver)\n",
    "\n",
    "    # Get result from optimizer\n",
    "    result = optimizer.solve(quadprog)\n",
    "    return result, _eval_count"
   ]
  },
  {
   "cell_type": "code",
   "execution_count": 36,
   "id": "a7381acc",
   "metadata": {},
   "outputs": [
    {
     "name": "stdout",
     "output_type": "stream",
     "text": [
      "Solution found using the VQE method:\n",
      "\n",
      "Maximum energy generated is 8.0 Xhour\n",
      "Sources used are: \n",
      "\t1.0 (coeff) of source\n",
      "\t1.0 (coeff) of state\n",
      "\n",
      "The solution was found within 33 evaluations of VQE\n"
     ]
    }
   ],
   "source": [
    "# Create a QuantumInstance\n",
    "simulator_instance = QuantumInstance(\n",
    "    backend=backend,\n",
    "    seed_simulator=algorithm_globals.random_seed,\n",
    "    seed_transpiler=algorithm_globals.random_seed,\n",
    ")\n",
    "\n",
    "# Get VQE result\n",
    "vqe_result, vqe_eval_count = get_VQE_solution_for(energy_cost, simulator_instance)\n",
    "\n",
    "# Format and print result\n",
    "print(\"Solution found using the VQE method:\\n\")\n",
    "print(f\"Maximum energy generated is {vqe_result.fval} Xhour\")\n",
    "print(f\"Sources used are: \")\n",
    "for source_contribution, source_name in zip(vqe_result.x, vqe_result.variable_names):\n",
    "    print(f\"\\t{source_contribution} (coeff) of {source_name}\")\n",
    "\n",
    "print(f\"\\nThe solution was found within {vqe_eval_count} evaluations of VQE\")"
   ]
  },
  {
   "cell_type": "markdown",
   "id": "8ff3c8ec",
   "metadata": {},
   "source": [
    "<h1> Run on a fake backend </h1>"
   ]
  },
  {
   "cell_type": "code",
   "execution_count": 23,
   "id": "274bbeb1",
   "metadata": {},
   "outputs": [],
   "source": [
    "import qiskit.test.mock as Fake\n",
    "fake_device = Fake.FakeJohannesburg()"
   ]
  },
  {
   "cell_type": "code",
   "execution_count": 24,
   "id": "bebdc7c6",
   "metadata": {},
   "outputs": [],
   "source": [
    "# Create the noise model, which contains the basis gate set\n",
    "noise_model = NoiseModel.from_backend(fake_device)\n",
    "\n",
    "# Get the coupling map\n",
    "coupling_map = fake_device.configuration().coupling_map"
   ]
  },
  {
   "cell_type": "code",
   "execution_count": 25,
   "id": "ed36e3ed",
   "metadata": {},
   "outputs": [],
   "source": [
    "fake_instance = QuantumInstance(\n",
    "    backend=backend,\n",
    "    basis_gates=noise_model.basis_gates,\n",
    "    coupling_map=coupling_map,\n",
    "    noise_model=noise_model,\n",
    "    seed_simulator=algorithm_globals.random_seed,\n",
    "    seed_transpiler=algorithm_globals.random_seed,\n",
    ")"
   ]
  },
  {
   "cell_type": "code",
   "execution_count": 37,
   "id": "482b5cff",
   "metadata": {},
   "outputs": [
    {
     "name": "stdout",
     "output_type": "stream",
     "text": [
      "Solution found using the QAOA method:\n",
      "\n",
      "Maximum energy generated is 8.0 Xhour\n",
      "Sources used are: \n",
      "\t1.0 ha of source\n",
      "\t1.0 ha of state\n",
      "\n",
      "The solution was found within 3 evaluations of QAOA.\n"
     ]
    }
   ],
   "source": [
    "# Get QAOA result\n",
    "qaoa_result, qaoa_eval_count = get_QAOA_solution_for(energy_cost, fake_instance)\n",
    "\n",
    "# Format and print result\n",
    "print(\"Solution found using the QAOA method:\\n\")\n",
    "print(f\"Maximum energy generated is {qaoa_result.fval} Xhour\")\n",
    "print(f\"Sources used are: \")\n",
    "for source_contribution, source_name in zip(qaoa_result.x, qaoa_result.variable_names):\n",
    "    print(f\"\\t{source_contribution} ha of {source_name}\")\n",
    "\n",
    "print(f\"\\nThe solution was found within {qaoa_eval_count} evaluations of QAOA.\")"
   ]
  },
  {
   "cell_type": "markdown",
   "id": "d57bf5ff",
   "metadata": {},
   "source": [
    "<h1> Running on a real quantum computer </h1>"
   ]
  },
  {
   "cell_type": "code",
   "execution_count": null,
   "id": "47012e46",
   "metadata": {},
   "outputs": [],
   "source": [
    "IBMQ.load_account()\n",
    "provider = IBMQ.get_provider(hub=\"ibm-q\")\n",
    "backend = provider.get_backend(\"ibmq_guadalupe\")"
   ]
  },
  {
   "cell_type": "code",
   "execution_count": null,
   "id": "6c76794f",
   "metadata": {},
   "outputs": [],
   "source": [
    "quantum_instance = QuantumInstance(backend)"
   ]
  },
  {
   "cell_type": "code",
   "execution_count": null,
   "id": "c3d0379e",
   "metadata": {},
   "outputs": [],
   "source": [
    "result = get_VQE_solution_for(qubo_energy_cost,quantum_instance)"
   ]
  },
  {
   "cell_type": "code",
   "execution_count": null,
   "id": "c0cc21c1",
   "metadata": {},
   "outputs": [],
   "source": []
  }
 ],
 "metadata": {
  "kernelspec": {
   "display_name": "Python 3",
   "language": "python",
   "name": "python3"
  },
  "language_info": {
   "codemirror_mode": {
    "name": "ipython",
    "version": 3
   },
   "file_extension": ".py",
   "mimetype": "text/x-python",
   "name": "python",
   "nbconvert_exporter": "python",
   "pygments_lexer": "ipython3",
   "version": "3.8.10"
  }
 },
 "nbformat": 4,
 "nbformat_minor": 5
}
